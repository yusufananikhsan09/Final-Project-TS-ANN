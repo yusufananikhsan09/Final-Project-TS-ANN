{
 "cells": [
  {
   "cell_type": "code",
   "execution_count": null,
   "metadata": {},
   "outputs": [],
   "source": [
    "import xarray as xr\n",
    "import rioxarray as rio\n",
    "from osgeo import gdal\n",
    "import os\n",
    "\n",
    "# Input Data\n",
    "CumTime = xr.open_dataset(r\"C:\\Users\\Yusuf Ikhsan\\Downloads\\pacitan.nc\", \n",
    "                       engine='netcdf4')\n",
    "\n",
    "# slicing time dari 2016 hingga 2021\n",
    "CumTime = data.cum.loc['2016':'2020']\n",
    "\n",
    "# Set CRS  dan sistem koordinat \n",
    "CumTime.rio.crs\n",
    "CumTime.rio.set_spatial_dims(x_dim='lon', y_dim='lat', inplace=True)\n",
    "CumTime.rio.write_coordinate_system(inplace=True)\n",
    "CumTime.to_netcdf(r\"C:\\Users\\Yusuf Ikhsan\\Downloads\\pacitan_Ref.nc\")"
   ]
  },
  {
   "cell_type": "code",
   "execution_count": null,
   "metadata": {},
   "outputs": [],
   "source": [
    "# Mengubah Center of each cell menjadi Point format .csv \n",
    "\"\"\"\n",
    "SOURCE : \n",
    "https://gis.stackexchange.com/questions/268395/converting-raster-tif-to-point-shapefile-using-python\n",
    "\"\"\"\n",
    "\n",
    "InFileName = \"D:\\STUDI\\Tugas Akhir\\DATASET\\TRIAL\\cumulativedisplac\"\n",
    "OutFileName= 'D:\\STUDI\\Tugas Akhir\\DATASET\\TRIAL\\ConvertCSV' \n",
    "\n",
    "for files in os.listdir(InFileName):\n",
    "    if files[-4:] == '.tif':\n",
    "        InName = InFileName +'\\\\'+files\n",
    "        inDs = gdal.Open(InName)\n",
    "        OutName = OutFileName + \"\\\\\"+ files[:-4]\n",
    "        outDs = gdal.Translate('{}.xyz'.format(OutName), inDs, format='XYZ', creationOptions=[\"ADD_HEADER_LINE=YES\"])\n",
    "        outDs = None\n",
    "        try:\n",
    "            os.remove('{}.csv'.format(OutName))\n",
    "        except OSError:\n",
    "            pass\n",
    "        os.rename('{}.xyz'.format(OutName), '{}.csv'.format(OutName))\n",
    "        os.system('ogr2ogr -f \"ESRI Shapefile\" -oo X_POSSIBLE_NAMES=X* -oo Y_POSSIBLE_NAMES=Y* -oo KEEP_GEOM_COLUMNS=NO {0}.shp {0}.csv'.format(OutName))\n",
    "        # print('Processing: '+files)"
   ]
  },
  {
   "cell_type": "code",
   "execution_count": null,
   "metadata": {},
   "outputs": [],
   "source": [
    "import pandas as pd\n",
    "import os\n",
    "os.chdir(\"D:\\STUDI\\Tugas Akhir\\DATASET\\OutputConvert\\OUTCSV\") \n",
    "\n",
    "for count, files in enumerate(os.listdir()):\n",
    "    #loop dilakukan didalam directory\n",
    "    \n",
    "    # Membuka setiap file berformat csv\n",
    "    df = pd.read_csv(r\"{}\".format(files))\n",
    "    \n",
    "    # memisahkan  setiap nilai dari masing-masing row\n",
    "    dfs = pd.DataFrame(columns=['Lon', 'Lat', 'Disp'])\n",
    "    for ind,row in df.iterrows():\n",
    "        \n",
    "        ## input nilai ke dalam masing-masing kolom\n",
    "        Lon, Lat, Disp = row.str.split()[0]\n",
    "        dfs.at[ind, \"Lon\"]= Lon\n",
    "        dfs.at[ind, \"Lat\"]= Lat\n",
    "        dfs.at[ind, \"Disp\"]= Disp\n",
    "        #dfs.to_csv(\"D:\\STUDI\\Tugas Akhir\\DATASET\\OutputConvert\\CSVN\"+\"\\\\\"+\"{}\".format(files), index=False)"
   ]
  },
  {
   "cell_type": "code",
   "execution_count": null,
   "metadata": {},
   "outputs": [],
   "source": [
    "os.chdir(\"D:\\STUDI\\Tugas Akhir\\DATASET\\OutputConvert\\OUTCSV\") \n",
    "\n",
    "for count, files in enumerate(os.listdir()):\n",
    "    #loop dilakukan didalam directory\n",
    "    \n",
    "    # Membuka setiap file berformat csv\n",
    "    df = pd.read_csv(r\"{}\".format(files))\n",
    "    \n",
    "    # memisahkan  setiap nilai dari masing-masing row\n",
    "    dfs = pd.DataFrame(columns=['Lon', 'Lat', 'Disp'])\n",
    "    for ind,row in df.iterrows():\n",
    "        \n",
    "        ## input nilai ke dalam masing-masing kolom\n",
    "        Lon, Lat, Disp = row.str.split()[0]\n",
    "        dfs.at[ind, \"Lon\"]= Lon\n",
    "        dfs.at[ind, \"Lat\"]= Lat\n",
    "        dfs.at[ind, \"Disp\"]= Disp\n",
    "        #dfs.to_csv(\"D:\\STUDI\\Tugas Akhir\\DATASET\\OutputConvert\\CSVN\"+\"\\\\\"+\"{}\".format(files), index=False)"
   ]
  }
 ],
 "metadata": {
  "language_info": {
   "name": "python"
  },
  "orig_nbformat": 4
 },
 "nbformat": 4,
 "nbformat_minor": 2
}
